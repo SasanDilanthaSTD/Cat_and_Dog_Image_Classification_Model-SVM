{
 "cells": [
  {
   "cell_type": "markdown",
   "metadata": {},
   "source": [
    "## Step 1: Define the Dataset Class\n",
    "\n",
    ">- We'll create a class to handle loading and preprocessing the dataset, including data augmentation"
   ]
  },
  {
   "cell_type": "code",
   "execution_count": 1,
   "metadata": {},
   "outputs": [],
   "source": [
    "import os\n",
    "import numpy as np\n",
    "import cv2  # OpenCV for image processing\n",
    "from sklearn.model_selection import train_test_split, GridSearchCV\n",
    "from sklearn.svm import SVC\n",
    "from sklearn.metrics import accuracy_score\n",
    "from sklearn.pipeline import make_pipeline\n",
    "from sklearn.preprocessing import StandardScaler"
   ]
  },
  {
   "cell_type": "code",
   "execution_count": 2,
   "metadata": {},
   "outputs": [],
   "source": [
    "class CatDogClassifier:\n",
    "    def __init__(self, data_dir, img_size=(128, 128)):\n",
    "        self.data_dir = data_dir\n",
    "        self.img_size = img_size\n",
    "\n",
    "    def load_data(self):\n",
    "        images = []\n",
    "        labels = []\n",
    "        \n",
    "        for label in ['cat', 'dog']:\n",
    "            folder = os.path.join(self.data_dir, 'train', label)\n",
    "            for filename in os.listdir(folder):\n",
    "                img_path = os.path.join(folder, filename)\n",
    "                img = cv2.imread(img_path)\n",
    "                img = cv2.resize(img, self.img_size)\n",
    "                img_array = img.flatten() / 255.0  # Flatten and normalize to [0, 1]\n",
    "                images.append(img_array)\n",
    "                labels.append(0 if label == 'cat' else 1)  # 0 for cats, 1 for dogs\n",
    "        \n",
    "        return np.array(images), np.array(labels)"
   ]
  },
  {
   "cell_type": "markdown",
   "metadata": {},
   "source": [
    "## Step 2: Define the Model Class\n",
    "\n",
    ">- Next, we will define a class for building and training the SVM model."
   ]
  },
  {
   "cell_type": "code",
   "execution_count": 3,
   "metadata": {},
   "outputs": [],
   "source": [
    "class ModelTrainer:\n",
    "    def __init__(self):\n",
    "        self.model = None\n",
    "\n",
    "    def train(self, X_train, y_train):\n",
    "        # Create a pipeline with StandardScaler and SVC\n",
    "        self.model = make_pipeline(StandardScaler(), SVC())\n",
    "\n",
    "        # Define parameter grid for hyperparameter tuning\n",
    "        param_grid = {\n",
    "            'svc__C': [0.1, 1, 10],\n",
    "            'svc__gamma': [0.01, 0.1, 1],\n",
    "            'svc__kernel': ['linear', 'rbf']\n",
    "        }\n",
    "\n",
    "        # Create GridSearchCV object with verbose=3 to display progress\n",
    "        grid_search = GridSearchCV(\n",
    "            self.model,\n",
    "            param_grid,\n",
    "            cv=3,\n",
    "            verbose=3,  # Show detailed output during training\n",
    "            n_jobs=-1   # Use all available CPU cores for parallel processing\n",
    "        )\n",
    "\n",
    "        print(\"Starting Grid Search...\")\n",
    "        \n",
    "        # Fit on training data\n",
    "        grid_search.fit(X_train, y_train)\n",
    "\n",
    "        # Best parameters and model\n",
    "        self.model = grid_search.best_estimator_\n",
    "        print(\"Best parameters:\", grid_search.best_params_)\n",
    "        print(\"Best cross-validation score:\", grid_search.best_score_)\n",
    "\n",
    "    def predict(self, X_test):\n",
    "        return self.model.predict(X_test)"
   ]
  },
  {
   "cell_type": "markdown",
   "metadata": {},
   "source": [
    "## Step 3: Putting It All Together\n",
    "\n",
    ">- Now we will create an instance of our classes and execute the training process."
   ]
  },
  {
   "cell_type": "code",
   "execution_count": 4,
   "metadata": {},
   "outputs": [],
   "source": [
    "#os.chdir(Path('../../../'))\n",
    "#Path('../../../cat_dog/sample')"
   ]
  },
  {
   "cell_type": "code",
   "execution_count": 5,
   "metadata": {},
   "outputs": [
    {
     "name": "stdout",
     "output_type": "stream",
     "text": [
      "Starting Grid Search...\n",
      "Fitting 3 folds for each of 18 candidates, totalling 54 fits\n",
      "[CV 2/3] END svc__C=0.1, svc__gamma=0.1, svc__kernel=linear;, score=0.461 total time= 1.8min\n",
      "[CV 1/3] END svc__C=0.1, svc__gamma=0.1, svc__kernel=linear;, score=0.569 total time= 1.8min\n",
      "[CV 3/3] END svc__C=0.1, svc__gamma=0.01, svc__kernel=linear;, score=0.560 total time= 1.9min\n",
      "[CV 2/3] END svc__C=0.1, svc__gamma=0.01, svc__kernel=linear;, score=0.461 total time= 1.9min\n",
      "[CV 1/3] END svc__C=0.1, svc__gamma=0.01, svc__kernel=linear;, score=0.569 total time= 1.9min\n",
      "[CV 1/3] END svc__C=0.1, svc__gamma=0.01, svc__kernel=rbf;, score=0.506 total time= 2.5min\n",
      "[CV 3/3] END svc__C=0.1, svc__gamma=0.01, svc__kernel=rbf;, score=0.504 total time= 2.5min\n",
      "[CV 2/3] END svc__C=0.1, svc__gamma=0.01, svc__kernel=rbf;, score=0.506 total time= 2.6min\n",
      "[CV 3/3] END svc__C=0.1, svc__gamma=0.1, svc__kernel=linear;, score=0.560 total time= 1.6min\n",
      "[CV 1/3] END svc__C=0.1, svc__gamma=1, svc__kernel=linear;, score=0.569 total time= 1.9min\n",
      "[CV 2/3] END svc__C=0.1, svc__gamma=1, svc__kernel=linear;, score=0.461 total time= 1.7min\n",
      "[CV 1/3] END svc__C=0.1, svc__gamma=0.1, svc__kernel=rbf;, score=0.506 total time= 2.4min\n",
      "[CV 3/3] END svc__C=0.1, svc__gamma=0.1, svc__kernel=rbf;, score=0.504 total time= 2.3min\n",
      "[CV 3/3] END svc__C=0.1, svc__gamma=1, svc__kernel=linear;, score=0.560 total time= 1.7min\n",
      "[CV 2/3] END svc__C=0.1, svc__gamma=0.1, svc__kernel=rbf;, score=0.506 total time= 2.4min\n",
      "[CV 1/3] END svc__C=0.1, svc__gamma=1, svc__kernel=rbf;, score=0.506 total time= 2.8min\n",
      "[CV 2/3] END svc__C=0.1, svc__gamma=1, svc__kernel=rbf;, score=0.506 total time= 2.4min\n",
      "[CV 2/3] END svc__C=1, svc__gamma=0.01, svc__kernel=linear;, score=0.461 total time= 1.7min\n",
      "[CV 1/3] END svc__C=1, svc__gamma=0.01, svc__kernel=linear;, score=0.569 total time= 1.7min\n",
      "[CV 3/3] END svc__C=1, svc__gamma=0.01, svc__kernel=linear;, score=0.560 total time= 1.8min\n",
      "[CV 3/3] END svc__C=0.1, svc__gamma=1, svc__kernel=rbf;, score=0.504 total time= 2.5min\n",
      "[CV 1/3] END svc__C=1, svc__gamma=0.01, svc__kernel=rbf;, score=0.506 total time= 2.5min\n",
      "[CV 2/3] END svc__C=1, svc__gamma=0.01, svc__kernel=rbf;, score=0.506 total time= 2.5min\n",
      "[CV 2/3] END svc__C=1, svc__gamma=0.1, svc__kernel=linear;, score=0.461 total time= 1.6min\n",
      "[CV 1/3] END svc__C=1, svc__gamma=0.1, svc__kernel=linear;, score=0.569 total time= 1.7min\n",
      "[CV 3/3] END svc__C=1, svc__gamma=0.1, svc__kernel=linear;, score=0.560 total time= 1.9min\n",
      "[CV 3/3] END svc__C=1, svc__gamma=0.01, svc__kernel=rbf;, score=0.504 total time= 2.4min\n",
      "[CV 1/3] END svc__C=1, svc__gamma=1, svc__kernel=linear;, score=0.569 total time= 1.7min\n",
      "[CV 1/3] END svc__C=1, svc__gamma=0.1, svc__kernel=rbf;, score=0.506 total time= 2.6min\n",
      "[CV 2/3] END svc__C=1, svc__gamma=0.1, svc__kernel=rbf;, score=0.506 total time= 2.8min\n",
      "[CV 2/3] END svc__C=1, svc__gamma=1, svc__kernel=linear;, score=0.461 total time= 1.6min\n",
      "[CV 3/3] END svc__C=1, svc__gamma=0.1, svc__kernel=rbf;, score=0.504 total time= 2.5min\n",
      "[CV 3/3] END svc__C=1, svc__gamma=1, svc__kernel=linear;, score=0.560 total time= 1.7min\n",
      "[CV 1/3] END svc__C=1, svc__gamma=1, svc__kernel=rbf;, score=0.506 total time= 2.4min\n",
      "[CV 1/3] END svc__C=10, svc__gamma=0.01, svc__kernel=linear;, score=0.569 total time= 1.7min\n",
      "[CV 2/3] END svc__C=1, svc__gamma=1, svc__kernel=rbf;, score=0.506 total time= 2.5min\n",
      "[CV 2/3] END svc__C=10, svc__gamma=0.01, svc__kernel=linear;, score=0.461 total time= 1.8min\n",
      "[CV 3/3] END svc__C=1, svc__gamma=1, svc__kernel=rbf;, score=0.504 total time= 2.4min\n",
      "[CV 3/3] END svc__C=10, svc__gamma=0.01, svc__kernel=linear;, score=0.560 total time= 1.9min\n",
      "[CV 2/3] END svc__C=10, svc__gamma=0.01, svc__kernel=rbf;, score=0.506 total time= 2.3min\n",
      "[CV 1/3] END svc__C=10, svc__gamma=0.01, svc__kernel=rbf;, score=0.506 total time= 2.3min\n",
      "[CV 1/3] END svc__C=10, svc__gamma=0.1, svc__kernel=linear;, score=0.569 total time= 1.6min\n",
      "[CV 2/3] END svc__C=10, svc__gamma=0.1, svc__kernel=linear;, score=0.461 total time= 1.6min\n",
      "[CV 3/3] END svc__C=10, svc__gamma=0.01, svc__kernel=rbf;, score=0.504 total time= 2.4min\n",
      "[CV 3/3] END svc__C=10, svc__gamma=0.1, svc__kernel=linear;, score=0.560 total time= 1.8min\n",
      "[CV 1/3] END svc__C=10, svc__gamma=1, svc__kernel=linear;, score=0.569 total time= 1.7min\n",
      "[CV 1/3] END svc__C=10, svc__gamma=0.1, svc__kernel=rbf;, score=0.506 total time= 2.3min\n",
      "[CV 2/3] END svc__C=10, svc__gamma=1, svc__kernel=linear;, score=0.461 total time= 1.6min\n",
      "[CV 2/3] END svc__C=10, svc__gamma=0.1, svc__kernel=rbf;, score=0.506 total time= 2.6min\n",
      "[CV 3/3] END svc__C=10, svc__gamma=1, svc__kernel=linear;, score=0.560 total time= 1.7min\n",
      "[CV 3/3] END svc__C=10, svc__gamma=0.1, svc__kernel=rbf;, score=0.504 total time= 2.1min\n",
      "[CV 1/3] END svc__C=10, svc__gamma=1, svc__kernel=rbf;, score=0.506 total time= 1.3min\n",
      "[CV 2/3] END svc__C=10, svc__gamma=1, svc__kernel=rbf;, score=0.506 total time= 1.3min\n",
      "[CV 3/3] END svc__C=10, svc__gamma=1, svc__kernel=rbf;, score=0.504 total time=  50.2s\n",
      "Best parameters: {'svc__C': 0.1, 'svc__gamma': 0.01, 'svc__kernel': 'linear'}\n",
      "Best cross-validation score: 0.5300376409187764\n",
      "Test Accuracy: 0.575\n"
     ]
    }
   ],
   "source": [
    "if __name__ == \"__main__\":\n",
    "    data_directory = '../../../cat_dog/sample'\n",
    "\n",
    "    classifier = CatDogClassifier(data_directory)\n",
    "    X, y = classifier.load_data()\n",
    "\n",
    "    # Split the dataset into training and testing sets\n",
    "    X_train, X_test, y_train, y_test = train_test_split(X, y, test_size=0.2, random_state=42)\n",
    "\n",
    "    trainer = ModelTrainer()\n",
    "    trainer.train(X_train, y_train)\n",
    "\n",
    "    # Make predictions on the test set\n",
    "    y_pred = trainer.predict(X_test)\n",
    "\n",
    "    # Calculate accuracy\n",
    "    accuracy = accuracy_score(y_test, y_pred)\n",
    "    print(\"Test Accuracy:\", accuracy)\n"
   ]
  }
 ],
 "metadata": {
  "kernelspec": {
   "display_name": "test_mlproj",
   "language": "python",
   "name": "python3"
  },
  "language_info": {
   "codemirror_mode": {
    "name": "ipython",
    "version": 3
   },
   "file_extension": ".py",
   "mimetype": "text/x-python",
   "name": "python",
   "nbconvert_exporter": "python",
   "pygments_lexer": "ipython3",
   "version": "3.10.16"
  }
 },
 "nbformat": 4,
 "nbformat_minor": 2
}
